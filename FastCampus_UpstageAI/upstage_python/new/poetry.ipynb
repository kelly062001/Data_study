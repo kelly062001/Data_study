{
 "cells": [
  {
   "cell_type": "code",
   "execution_count": 1,
   "metadata": {},
   "outputs": [
    {
     "name": "stdout",
     "output_type": "stream",
     "text": [
      "Collecting poetry\n",
      "  Downloading poetry-1.6.1-py3-none-any.whl (232 kB)\n",
      "Collecting tomlkit<1.0.0,>=0.11.4\n",
      "  Downloading tomlkit-0.12.1-py3-none-any.whl (37 kB)\n",
      "Requirement already satisfied: pexpect<5.0.0,>=4.7.0 in c:\\programdata\\anaconda3\\lib\\site-packages (from poetry) (4.8.0)\n",
      "Collecting installer<0.8.0,>=0.7.0\n",
      "  Downloading installer-0.7.0-py3-none-any.whl (453 kB)Note: you may need to restart the kernel to use updated packages.\n",
      "Collecting shellingham<2.0,>=1.5\n",
      "  Downloading shellingham-1.5.4-py2.py3-none-any.whl (9.8 kB)\n",
      "Requirement already satisfied: requests<3.0,>=2.26 in c:\\programdata\\anaconda3\\lib\\site-packages (from poetry) (2.26.0)\n",
      "Requirement already satisfied: packaging>=20.4 in c:\\programdata\\anaconda3\\lib\\site-packages (from poetry) (21.0)\n",
      "Collecting pkginfo<2.0.0,>=1.9.4\n",
      "  Downloading pkginfo-1.9.6-py3-none-any.whl (30 kB)\n",
      "\n"
     ]
    },
    {
     "name": "stderr",
     "output_type": "stream",
     "text": [
      "WARNING: Ignoring invalid distribution -na (c:\\programdata\\anaconda3\\lib\\site-packages)\n",
      "WARNING: Ignoring invalid distribution -1na (c:\\programdata\\anaconda3\\lib\\site-packages)\n",
      "WARNING: Ignoring invalid distribution -umpy (c:\\programdata\\anaconda3\\lib\\site-packages)\n",
      "WARNING: Ignoring invalid distribution -na (c:\\programdata\\anaconda3\\lib\\site-packages)\n",
      "WARNING: Ignoring invalid distribution -0na (c:\\programdata\\anaconda3\\lib\\site-packages)\n",
      "WARNING: Ignoring invalid distribution - (c:\\programdata\\anaconda3\\lib\\site-packages)\n",
      "WARNING: Ignoring invalid distribution -dna (c:\\programdata\\anaconda3\\lib\\site-packages)\n",
      "WARNING: Ignoring invalid distribution -na (c:\\programdata\\anaconda3\\lib\\site-packages)\n",
      "WARNING: Ignoring invalid distribution -1na (c:\\programdata\\anaconda3\\lib\\site-packages)\n",
      "WARNING: Ignoring invalid distribution -umpy (c:\\programdata\\anaconda3\\lib\\site-packages)\n",
      "WARNING: Ignoring invalid distribution -na (c:\\programdata\\anaconda3\\lib\\site-packages)\n",
      "WARNING: Ignoring invalid distribution -0na (c:\\programdata\\anaconda3\\lib\\site-packages)\n",
      "WARNING: Ignoring invalid distribution - (c:\\programdata\\anaconda3\\lib\\site-packages)\n"
     ]
    },
    {
     "name": "stdout",
     "output_type": "stream",
     "text": [
      "Collecting platformdirs<4.0.0,>=3.0.0\n",
      "  Downloading platformdirs-3.11.0-py3-none-any.whl (17 kB)\n",
      "Collecting poetry-plugin-export<2.0.0,>=1.5.0\n",
      "  Downloading poetry_plugin_export-1.5.0-py3-none-any.whl (10 kB)\n",
      "Collecting cleo<3.0.0,>=2.0.0\n",
      "  Downloading cleo-2.0.1-py3-none-any.whl (77 kB)\n",
      "Collecting jsonschema<4.18.0,>=4.10.0\n",
      "  Downloading jsonschema-4.17.3-py3-none-any.whl (90 kB)\n",
      "Collecting crashtest<0.5.0,>=0.4.1\n",
      "  Downloading crashtest-0.4.1-py3-none-any.whl (7.6 kB)\n",
      "Collecting tomli<3.0.0,>=2.0.1\n",
      "  Downloading tomli-2.0.1-py3-none-any.whl (12 kB)\n",
      "Collecting virtualenv<21.0.0,>=20.22.0\n",
      "  Downloading virtualenv-20.24.6-py3-none-any.whl (3.8 MB)\n",
      "Collecting trove-classifiers>=2022.5.19\n",
      "  Downloading trove_classifiers-2023.10.18-py3-none-any.whl (13 kB)\n",
      "Collecting dulwich<0.22.0,>=0.21.2\n",
      "  Downloading dulwich-0.21.6-cp39-cp39-win_amd64.whl (484 kB)\n",
      "Collecting cachecontrol[filecache]<0.14.0,>=0.13.0\n",
      "  Downloading cachecontrol-0.13.1-py3-none-any.whl (22 kB)\n",
      "Collecting build<0.11.0,>=0.10.0\n",
      "  Downloading build-0.10.0-py3-none-any.whl (17 kB)\n",
      "Collecting pyproject-hooks<2.0.0,>=1.0.0\n",
      "  Downloading pyproject_hooks-1.0.0-py3-none-any.whl (9.3 kB)\n",
      "Collecting keyring<25.0.0,>=24.0.0\n",
      "  Downloading keyring-24.2.0-py3-none-any.whl (37 kB)\n",
      "Requirement already satisfied: importlib-metadata>=4.4 in c:\\programdata\\anaconda3\\lib\\site-packages (from poetry) (4.8.1)\n",
      "Collecting requests-toolbelt<2,>=0.9.1\n",
      "  Downloading requests_toolbelt-1.0.0-py2.py3-none-any.whl (54 kB)\n",
      "Collecting poetry-core==1.7.0\n",
      "  Downloading poetry_core-1.7.0-py3-none-any.whl (426 kB)\n",
      "Requirement already satisfied: colorama in c:\\programdata\\anaconda3\\lib\\site-packages (from build<0.11.0,>=0.10.0->poetry) (0.4.4)\n",
      "Requirement already satisfied: msgpack>=0.5.2 in c:\\programdata\\anaconda3\\lib\\site-packages (from cachecontrol[filecache]<0.14.0,>=0.13.0->poetry) (1.0.2)\n",
      "Collecting filelock>=3.8.0\n",
      "  Downloading filelock-3.12.4-py3-none-any.whl (11 kB)\n",
      "Collecting rapidfuzz<3.0.0,>=2.2.0\n",
      "  Downloading rapidfuzz-2.15.2-cp39-cp39-win_amd64.whl (1.8 MB)\n",
      "Requirement already satisfied: urllib3>=1.25 in c:\\programdata\\anaconda3\\lib\\site-packages (from dulwich<0.22.0,>=0.21.2->poetry) (1.26.7)\n",
      "Requirement already satisfied: zipp>=0.5 in c:\\programdata\\anaconda3\\lib\\site-packages (from importlib-metadata>=4.4->poetry) (3.6.0)\n",
      "Requirement already satisfied: attrs>=17.4.0 in c:\\programdata\\anaconda3\\lib\\site-packages (from jsonschema<4.18.0,>=4.10.0->poetry) (21.2.0)\n",
      "Requirement already satisfied: pyrsistent!=0.17.0,!=0.17.1,!=0.17.2,>=0.14.0 in c:\\programdata\\anaconda3\\lib\\site-packages (from jsonschema<4.18.0,>=4.10.0->poetry) (0.18.0)\n",
      "Collecting jaraco.classes\n",
      "  Downloading jaraco.classes-3.3.0-py3-none-any.whl (5.9 kB)\n",
      "Requirement already satisfied: pywin32-ctypes>=0.2.0 in c:\\programdata\\anaconda3\\lib\\site-packages (from keyring<25.0.0,>=24.0.0->poetry) (0.2.0)\n",
      "Collecting importlib-metadata>=4.4\n",
      "  Downloading importlib_metadata-6.8.0-py3-none-any.whl (22 kB)\n",
      "Requirement already satisfied: pyparsing>=2.0.2 in c:\\programdata\\anaconda3\\lib\\site-packages (from packaging>=20.4->poetry) (3.0.4)\n",
      "Requirement already satisfied: ptyprocess>=0.5 in c:\\programdata\\anaconda3\\lib\\site-packages (from pexpect<5.0.0,>=4.7.0->poetry) (0.7.0)\n",
      "Requirement already satisfied: idna<4,>=2.5 in c:\\programdata\\anaconda3\\lib\\site-packages (from requests<3.0,>=2.26->poetry) (3.2)\n",
      "Requirement already satisfied: charset-normalizer~=2.0.0 in c:\\programdata\\anaconda3\\lib\\site-packages (from requests<3.0,>=2.26->poetry) (2.0.4)\n",
      "Requirement already satisfied: certifi>=2017.4.17 in c:\\programdata\\anaconda3\\lib\\site-packages (from requests<3.0,>=2.26->poetry) (2021.10.8)\n",
      "Collecting distlib<1,>=0.3.7\n",
      "  Downloading distlib-0.3.7-py2.py3-none-any.whl (468 kB)\n",
      "Requirement already satisfied: more-itertools in c:\\programdata\\anaconda3\\lib\\site-packages (from jaraco.classes->keyring<25.0.0,>=24.0.0->poetry) (8.10.0)\n",
      "Installing collected packages: tomli, rapidfuzz, pyproject-hooks, poetry-core, platformdirs, jaraco.classes, importlib-metadata, filelock, distlib, crashtest, cachecontrol, virtualenv, trove-classifiers, tomlkit, shellingham, requests-toolbelt, poetry-plugin-export, pkginfo, keyring, jsonschema, installer, dulwich, cleo, build, poetry\n",
      "  Attempting uninstall: importlib-metadata\n",
      "    Found existing installation: importlib-metadata 4.8.1\n",
      "    Uninstalling importlib-metadata-4.8.1:\n"
     ]
    },
    {
     "name": "stderr",
     "output_type": "stream",
     "text": [
      "WARNING: Ignoring invalid distribution -dna (c:\\programdata\\anaconda3\\lib\\site-packages)\n",
      "WARNING: Ignoring invalid distribution -na (c:\\programdata\\anaconda3\\lib\\site-packages)\n",
      "WARNING: Ignoring invalid distribution -1na (c:\\programdata\\anaconda3\\lib\\site-packages)\n",
      "WARNING: Ignoring invalid distribution -umpy (c:\\programdata\\anaconda3\\lib\\site-packages)\n",
      "WARNING: Ignoring invalid distribution -na (c:\\programdata\\anaconda3\\lib\\site-packages)\n",
      "WARNING: Ignoring invalid distribution -0na (c:\\programdata\\anaconda3\\lib\\site-packages)\n",
      "WARNING: Ignoring invalid distribution - (c:\\programdata\\anaconda3\\lib\\site-packages)\n",
      "WARNING: Ignoring invalid distribution -dna (c:\\programdata\\anaconda3\\lib\\site-packages)\n",
      "    WARNING: Ignoring invalid distribution -na (c:\\programdata\\anaconda3\\lib\\site-packages)\n",
      "    WARNING: Ignoring invalid distribution -1na (c:\\programdata\\anaconda3\\lib\\site-packages)\n",
      "    WARNING: Ignoring invalid distribution -umpy (c:\\programdata\\anaconda3\\lib\\site-packages)\n",
      "    WARNING: Ignoring invalid distribution -na (c:\\programdata\\anaconda3\\lib\\site-packages)\n",
      "    WARNING: Ignoring invalid distribution -0na (c:\\programdata\\anaconda3\\lib\\site-packages)\n",
      "    WARNING: Ignoring invalid distribution - (c:\\programdata\\anaconda3\\lib\\site-packages)\n",
      "    WARNING: Ignoring invalid distribution -dna (c:\\programdata\\anaconda3\\lib\\site-packages)\n",
      "ERROR: Could not install packages due to an OSError: [WinError 5] 액세스가 거부되었습니다: 'c:\\\\programdata\\\\anaconda3\\\\lib\\\\site-packages\\\\importlib_metadata-4.8.1.dist-info\\\\direct_url.json'\n",
      "Consider using the `--user` option or check the permissions.\n",
      "\n",
      "WARNING: Ignoring invalid distribution -na (c:\\programdata\\anaconda3\\lib\\site-packages)\n",
      "WARNING: Ignoring invalid distribution -1na (c:\\programdata\\anaconda3\\lib\\site-packages)\n",
      "WARNING: Ignoring invalid distribution -umpy (c:\\programdata\\anaconda3\\lib\\site-packages)\n",
      "WARNING: Ignoring invalid distribution -na (c:\\programdata\\anaconda3\\lib\\site-packages)\n",
      "WARNING: Ignoring invalid distribution -0na (c:\\programdata\\anaconda3\\lib\\site-packages)\n",
      "WARNING: Ignoring invalid distribution - (c:\\programdata\\anaconda3\\lib\\site-packages)\n",
      "WARNING: Ignoring invalid distribution -dna (c:\\programdata\\anaconda3\\lib\\site-packages)\n",
      "WARNING: Ignoring invalid distribution -na (c:\\programdata\\anaconda3\\lib\\site-packages)\n",
      "WARNING: Ignoring invalid distribution -1na (c:\\programdata\\anaconda3\\lib\\site-packages)\n",
      "WARNING: Ignoring invalid distribution -umpy (c:\\programdata\\anaconda3\\lib\\site-packages)\n",
      "WARNING: Ignoring invalid distribution -na (c:\\programdata\\anaconda3\\lib\\site-packages)\n",
      "WARNING: Ignoring invalid distribution -0na (c:\\programdata\\anaconda3\\lib\\site-packages)\n",
      "WARNING: Ignoring invalid distribution - (c:\\programdata\\anaconda3\\lib\\site-packages)\n",
      "WARNING: Ignoring invalid distribution -dna (c:\\programdata\\anaconda3\\lib\\site-packages)\n",
      "WARNING: Ignoring invalid distribution -na (c:\\programdata\\anaconda3\\lib\\site-packages)\n",
      "WARNING: Ignoring invalid distribution -1na (c:\\programdata\\anaconda3\\lib\\site-packages)\n",
      "WARNING: Ignoring invalid distribution -umpy (c:\\programdata\\anaconda3\\lib\\site-packages)\n",
      "WARNING: Ignoring invalid distribution -na (c:\\programdata\\anaconda3\\lib\\site-packages)\n",
      "WARNING: Ignoring invalid distribution -0na (c:\\programdata\\anaconda3\\lib\\site-packages)\n",
      "WARNING: Ignoring invalid distribution - (c:\\programdata\\anaconda3\\lib\\site-packages)\n",
      "WARNING: Ignoring invalid distribution -dna (c:\\programdata\\anaconda3\\lib\\site-packages)\n"
     ]
    }
   ],
   "source": [
    "pip install poetry"
   ]
  },
  {
   "cell_type": "code",
   "execution_count": 2,
   "metadata": {},
   "outputs": [
    {
     "ename": "NameError",
     "evalue": "name 'poetry' is not defined",
     "output_type": "error",
     "traceback": [
      "\u001b[1;31m---------------------------------------------------------------------------\u001b[0m",
      "\u001b[1;31mNameError\u001b[0m                                 Traceback (most recent call last)",
      "\u001b[1;32m~\\AppData\\Local\\Temp/ipykernel_24484/866557468.py\u001b[0m in \u001b[0;36m<module>\u001b[1;34m\u001b[0m\n\u001b[1;32m----> 1\u001b[1;33m \u001b[0mpoetry\u001b[0m \u001b[1;33m-\u001b[0m\u001b[1;33m-\u001b[0m\u001b[0mversion\u001b[0m\u001b[1;33m\u001b[0m\u001b[1;33m\u001b[0m\u001b[0m\n\u001b[0m",
      "\u001b[1;31mNameError\u001b[0m: name 'poetry' is not defined"
     ]
    }
   ],
   "source": []
  },
  {
   "cell_type": "code",
   "execution_count": null,
   "metadata": {},
   "outputs": [],
   "source": []
  }
 ],
 "metadata": {
  "kernelspec": {
   "display_name": "base",
   "language": "python",
   "name": "python3"
  },
  "language_info": {
   "codemirror_mode": {
    "name": "ipython",
    "version": 3
   },
   "file_extension": ".py",
   "mimetype": "text/x-python",
   "name": "python",
   "nbconvert_exporter": "python",
   "pygments_lexer": "ipython3",
   "version": "3.9.7"
  }
 },
 "nbformat": 4,
 "nbformat_minor": 2
}
