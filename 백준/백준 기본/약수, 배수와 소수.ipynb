{
 "cells": [
  {
   "cell_type": "code",
   "execution_count": 2,
   "metadata": {},
   "outputs": [
    {
     "name": "stdout",
     "output_type": "stream",
     "text": [
      "factor\n",
      "multiple\n",
      "neither\n"
     ]
    }
   ],
   "source": [
    "\n",
    "while (True):\n",
    "    i,j=map(int, input().split())\n",
    "    if i>j :\n",
    "        if i%j==0:\n",
    "            print('multiple')\n",
    "        else:\n",
    "            print('neither')\n",
    "    elif i==j and (i!=0 and j!=0):\n",
    "        print('factor')\n",
    "    else:\n",
    "        if i==0 and j ==0:\n",
    "            break\n",
    "        if j%i==0:\n",
    "            print('factor')\n",
    "        else:\n",
    "            print('neither')\n"
   ]
  },
  {
   "cell_type": "code",
   "execution_count": 26,
   "metadata": {},
   "outputs": [
    {
     "name": "stdout",
     "output_type": "stream",
     "text": [
      "-1\n"
     ]
    }
   ],
   "source": [
    "m= int(input())\n",
    "n= int(input())\n",
    "\n",
    "prime_list=[]\n",
    "\n",
    "for i in range(m,n+1):\n",
    "    prime_num=0\n",
    "    for j in range(1,i+1):\n",
    "        if i%j==0:\n",
    "            prime_num+=1\n",
    "    if prime_num==2:\n",
    "        prime_list.append(i)\n",
    "            \n",
    "\n",
    "if len(prime_list)==0:\n",
    "    print(-1)\n",
    "else:\n",
    "    prime_sum=0\n",
    "    for i in range (len(prime_list)):\n",
    "        prime_sum+=prime_list[i]\n",
    "    print(prime_sum)\n",
    "    print(min(prime_list))"
   ]
  },
  {
   "cell_type": "code",
   "execution_count": 6,
   "metadata": {},
   "outputs": [
    {
     "name": "stdout",
     "output_type": "stream",
     "text": [
      "1\n"
     ]
    }
   ],
   "source": [
    "n,k=map(int, input().split())\n",
    "factor_list=[]\n",
    "\n",
    "for i in range(1,n+1):\n",
    "    if n%i==0:\n",
    "        factor_list.append(i)\n",
    "    \n",
    "if len(factor_list)<k:\n",
    "    print(0)\n",
    "else:\n",
    "    factor_list.sort()\n",
    "    print(factor_list[k-1])"
   ]
  },
  {
   "cell_type": "code",
   "execution_count": 16,
   "metadata": {},
   "outputs": [
    {
     "name": "stdout",
     "output_type": "stream",
     "text": [
      "6 = 1 + 2 + 3\n",
      "12 is NOT perfect.\n",
      "28 = 1 + 2 + 4 + 7 + 14\n"
     ]
    }
   ],
   "source": [
    "while(True):\n",
    "    n=int(input())\n",
    "    factor_list=[]\n",
    "    if n == -1:\n",
    "        break\n",
    "    for i in range(1,n):\n",
    "        if n%i==0:\n",
    "            factor_list.append(i)\n",
    "    if sum(factor_list)==n:\n",
    "        print(n,end=\" = \")\n",
    "        for i in range(len(factor_list)-1):\n",
    "            print(f'{factor_list[i]}', end=\" + \")\n",
    "        print(factor_list[len(factor_list)-1])\n",
    "    else:\n",
    "        print(f'{n} is NOT perfect.')"
   ]
  },
  {
   "cell_type": "code",
   "execution_count": 25,
   "metadata": {},
   "outputs": [
    {
     "name": "stdout",
     "output_type": "stream",
     "text": [
      "2\n"
     ]
    }
   ],
   "source": [
    "n=int(input())\n",
    "    \n",
    "prime_list=list(input().split())\n",
    "\n",
    "new_prime_list = list(map(int, prime_list))\n",
    "\n",
    "answer=0\n",
    "for i in new_prime_list:\n",
    "    count=0\n",
    "    for j in range(1,i):\n",
    "        if i%j==0:\n",
    "            count+=1\n",
    "    if count ==1:\n",
    "        answer+=1\n",
    "print(answer)"
   ]
  },
  {
   "cell_type": "code",
   "execution_count": 29,
   "metadata": {},
   "outputs": [
    {
     "ename": "IndentationError",
     "evalue": "expected an indented block (Temp/ipykernel_40512/368737659.py, line 13)",
     "output_type": "error",
     "traceback": [
      "\u001b[1;36m  File \u001b[1;32m\"C:\\Users\\hyunj\\AppData\\Local\\Temp/ipykernel_40512/368737659.py\"\u001b[1;36m, line \u001b[1;32m13\u001b[0m\n\u001b[1;33m    \u001b[0m\n\u001b[1;37m    ^\u001b[0m\n\u001b[1;31mIndentationError\u001b[0m\u001b[1;31m:\u001b[0m expected an indented block\n"
     ]
    }
   ],
   "source": [
    "n=int(input())\n",
    "\n",
    "prime_list=[]\n",
    "for i in range(n+1):\n",
    "    count=0\n",
    "    for j in range(1,i+1):\n",
    "        if i%j==0:\n",
    "            count+=1\n",
    "    if count ==2:\n",
    "        prime_list.append(i)\n",
    "\n"
   ]
  },
  {
   "cell_type": "code",
   "execution_count": null,
   "metadata": {},
   "outputs": [],
   "source": []
  }
 ],
 "metadata": {
  "kernelspec": {
   "display_name": "base",
   "language": "python",
   "name": "python3"
  },
  "language_info": {
   "codemirror_mode": {
    "name": "ipython",
    "version": 3
   },
   "file_extension": ".py",
   "mimetype": "text/x-python",
   "name": "python",
   "nbconvert_exporter": "python",
   "pygments_lexer": "ipython3",
   "version": "3.9.7"
  },
  "orig_nbformat": 4
 },
 "nbformat": 4,
 "nbformat_minor": 2
}
