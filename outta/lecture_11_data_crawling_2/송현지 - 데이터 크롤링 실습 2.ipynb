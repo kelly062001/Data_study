{
 "cells": [
  {
   "cell_type": "markdown",
   "id": "5187c4e1",
   "metadata": {},
   "source": [
    "# 라이브러리 설치"
   ]
  },
  {
   "cell_type": "code",
   "execution_count": 5,
   "id": "c2b7084e",
   "metadata": {},
   "outputs": [
    {
     "name": "stdout",
     "output_type": "stream",
     "text": [
      "Requirement already satisfied: selenium in c:\\users\\samsung\\anaconda3\\lib\\site-packages (4.8.2)\n",
      "Requirement already satisfied: trio-websocket~=0.9 in c:\\users\\samsung\\anaconda3\\lib\\site-packages (from selenium) (0.9.2)\n",
      "Requirement already satisfied: trio~=0.17 in c:\\users\\samsung\\anaconda3\\lib\\site-packages (from selenium) (0.22.0)\n",
      "Requirement already satisfied: urllib3[socks]~=1.26 in c:\\users\\samsung\\anaconda3\\lib\\site-packages (from selenium) (1.26.9)\n",
      "Requirement already satisfied: certifi>=2021.10.8 in c:\\users\\samsung\\anaconda3\\lib\\site-packages (from selenium) (2021.10.8)\n",
      "Requirement already satisfied: sortedcontainers in c:\\users\\samsung\\anaconda3\\lib\\site-packages (from trio~=0.17->selenium) (2.4.0)\n",
      "Requirement already satisfied: outcome in c:\\users\\samsung\\anaconda3\\lib\\site-packages (from trio~=0.17->selenium) (1.2.0)\n",
      "Requirement already satisfied: async-generator>=1.9 in c:\\users\\samsung\\anaconda3\\lib\\site-packages (from trio~=0.17->selenium) (1.10)\n",
      "Requirement already satisfied: attrs>=19.2.0 in c:\\users\\samsung\\anaconda3\\lib\\site-packages (from trio~=0.17->selenium) (21.4.0)\n",
      "Requirement already satisfied: idna in c:\\users\\samsung\\anaconda3\\lib\\site-packages (from trio~=0.17->selenium) (3.3)\n",
      "Requirement already satisfied: cffi>=1.14 in c:\\users\\samsung\\anaconda3\\lib\\site-packages (from trio~=0.17->selenium) (1.15.0)\n",
      "Requirement already satisfied: sniffio in c:\\users\\samsung\\anaconda3\\lib\\site-packages (from trio~=0.17->selenium) (1.2.0)\n",
      "Requirement already satisfied: exceptiongroup>=1.0.0rc9 in c:\\users\\samsung\\anaconda3\\lib\\site-packages (from trio~=0.17->selenium) (1.1.0)\n",
      "Requirement already satisfied: pycparser in c:\\users\\samsung\\anaconda3\\lib\\site-packages (from cffi>=1.14->trio~=0.17->selenium) (2.21)\n",
      "Requirement already satisfied: wsproto>=0.14 in c:\\users\\samsung\\anaconda3\\lib\\site-packages (from trio-websocket~=0.9->selenium) (1.2.0)\n",
      "Requirement already satisfied: PySocks!=1.5.7,<2.0,>=1.5.6 in c:\\users\\samsung\\anaconda3\\lib\\site-packages (from urllib3[socks]~=1.26->selenium) (1.7.1)\n",
      "Requirement already satisfied: h11<1,>=0.9.0 in c:\\users\\samsung\\anaconda3\\lib\\site-packages (from wsproto>=0.14->trio-websocket~=0.9->selenium) (0.14.0)\n"
     ]
    }
   ],
   "source": [
    "!pip install selenium"
   ]
  },
  {
   "cell_type": "markdown",
   "id": "42526e7d",
   "metadata": {},
   "source": [
    "# Selenium 연습"
   ]
  },
  {
   "cell_type": "markdown",
   "id": "b363551b",
   "metadata": {},
   "source": [
    "## By.Name 구문"
   ]
  },
  {
   "cell_type": "code",
   "execution_count": 7,
   "id": "aff26984",
   "metadata": {},
   "outputs": [],
   "source": [
    "from selenium import webdriver\n",
    "from selenium.webdriver.common.by import By\n",
    "from selenium.webdriver.common.keys import Keys\n",
    "from selenium.webdriver.chrome.service import Service\n",
    "\n",
    "# ChromeDriver의 경로를 지정하고, WebDriver 인스턴스를 생성합니다.\n",
    "driver = webdriver.Chrome()\n",
    "\n",
    "# 지마켓의 메인 페이지를 엽니다.\n",
    "driver.get('https://www.gmarket.co.kr')\n",
    "\n",
    "# 검색어를 입력할 수 있는 input 요소를 찾습니다.\n",
    "search_box = driver.find_element(By.NAME, 'keyword')\n",
    "\n",
    "# 검색어를 입력하고, Enter 키를 눌러 검색을 실행합니다.\n",
    "search_box.send_keys('손풍기')\n",
    "search_box.send_keys(Keys.RETURN)\n",
    "\n",
    "# 작업이 끝나면 WebDriver를 종료하여 브라우저 창을 닫습니다.\n",
    "driver.quit()"
   ]
  },
  {
   "cell_type": "markdown",
   "id": "f7e91211",
   "metadata": {},
   "source": [
    "## By.CSS_SELECTOR 구문"
   ]
  },
  {
   "cell_type": "code",
   "execution_count": 9,
   "id": "d0ba22cd",
   "metadata": {},
   "outputs": [],
   "source": [
    "from selenium import webdriver\n",
    "from selenium.webdriver.common.by import By\n",
    "from selenium.webdriver.common.keys import Keys\n",
    "from selenium.webdriver.chrome.service import Service\n",
    "\n",
    "title_list = list()\n",
    "\n",
    "# ChromeDriver의 경로를 지정하고, WebDriver 인스턴스를 생성합니다.\n",
    "driver = webdriver.Chrome()\n",
    "\n",
    "# 지마켓의 베스트 페이지를 엽니다.\n",
    "driver.get('https://www.gmarket.co.kr/n/best')\n",
    "\n",
    "# 상품명을 입력 받아 item_list 변수에 저장합니다.\n",
    "item_list = driver.find_elements(By.CSS_SELECTOR, 'a.itemname')\n",
    "\n",
    "for item in item_list:\n",
    "    title_list.append(item.text)\n",
    "\n",
    "driver.quit()"
   ]
  },
  {
   "cell_type": "code",
   "execution_count": 10,
   "id": "4704868d",
   "metadata": {},
   "outputs": [
    {
     "name": "stdout",
     "output_type": "stream",
     "text": [
      "['시즌오프가 1+1 남여공용 비침없는 면 프린팅 티셔츠 장당 3750원 딱 오늘만 가능한 가격', '[피죤]고농축 향균섬유유연제 보타닉 자스민허브 1Lx3개+2L증정/특가11470원', '[이마트24](클럽전용) 이마트24 1만원 금액권', '청도 달콤한 털복숭아 아삭아삭 대월 경봉 딱딱이(18-19과 내외) 4kg 아웃박스 안전배송', '[모나리자]보타닉 블라썸 (27m30롤)X3개 화장지 휴지', '[CGV](CGV) G마켓 예매권(금요특가_7/21)', '스테비아토마토 샤인달콤마토 500gX4팩 달콤한 방울토마토 신선한 제철과일', '[메가박스](유니버스클럽 전용) 메가박스 일반예매권 2D-주중/주말', '[피코크]피코크 떡갈비 450gx6팩 (신세계푸드 중복 쿠폰 할인)', '참존 톤업핏 콜라겐 6000 1개월분 28병입 마시는콜라겐 300DA (유통기한 23년10월까지/임박특가)', '[CJ프레시웨이]이츠웰 맛있는 냉동 블루베리 1kgx3개', '[제스프리]제스프리 골드키위 2kg 공식인증 점보', '[농협안심한우]쿠폰23440원) 1등급 농협 안심 한우 국거리 덩어리 or 불고기 500g+500g 냉장 암소 / 2세트 주문시 무료배송', '[베스트웨이]어린이 튜브 모음전 원형 물놀이 라이더 수영용품', '(깨비농원)고당도 하우스귤 2.5kg 소과(2S)', '[아침농산]국산 찰흑미 500g x 3개 흑미 2022년 햅쌀', '[언더아머](신세계의정부점)언더아머 헤비웨이트 남녀공용 루즈핏 면티 면 반팔티 반팔티셔츠', '[떡보의하루]떡편 우유설기 5개입x3박스 개별포장 백설기 아이간식 식사대용', '[청담스타일]티니올 컨센트레이트 비타민C 유스 앰플 15ml x 3ea (1set) 견미리 앰플 / 유통기한 23.10', '[조르쥬레쉬][조르쥬 레쉬] GR PRE-FALL 케이블 니트 자켓 3종', '딱좋아 광천 돌김자반40gX10봉', '[산과들에]다크초콜릿아몬드20낱봉 +10봉더', '제이준 진정보습 마스크팩 30+10매 / Summer Big Sale', '[청정원]청정원 소시지랑 떡이랑 440g(4입) x 2봉(총 8개입) 소떡소떡', '[한복선]한복선 버섯 뚝배기 불고기400g 8팩', '[구글플레이]기프트코드 10만원 / 구글 기프트카드', '[탑스텝]탑스텝 캡슐세제 트리플 고농축 30개입 x 3 + 추가팩 5개입+곰팡이제거젤 증정 최대19270원', '1+1 아이스 넥쿨러 PCM 자동냉각 넥밴드 라이딩 스포츠 쿨스카프 얼음 목튜브 쿨워머', '[길벗스쿨]길벗이지톡_영어회화 핵심패턴233 2권세트 (7월31일 예약발송)', '통영 자연산 활 돌문어 700g 1-3미 / 19710원(쿠폰가)/ 여름 보양식', '[숨37˚](신세계강남점)[타임딜]시크릿 에센스 45ml 기획세트', '널담 수제쿠키 6종 1BOX / 2세트 구매시 4천원 할인', 'SAVVAS/최신미국교과서/ 체계적인 단계별학습/Foundational Reading Skills', '[니지]14k 베스트 귀걸이/팔찌/발찌+사은품증정 /투웨이드롭 이어링', '[벨롭]밸롭 아쿠아슈즈/워터슈즈/래쉬가드/수영복/비치웨어/여성/남성/아동/키즈 모음전', '[온더바디]벨먼 아유르벨 라벤더 바디워시 400ml 2개', '햇사레 복숭아 부드러운 황도 2.5kg(8-11과) 농협 선별', '[신세계푸드]제스프리 골드키위 점보 2.6kg (17개 내외)(중복쿠폰할인)', '[올품]올품 의성마늘 닭갈비300g6팩', '여수할마니 남도 갓김치 2kg 국내산 재료 제조 여수갓김치', '[KFC](KFC) 중복기념파티팩', '[옥주부]옥주부 제주돼지 돈까스 10팩(등심8+치즈2+소스10)', '모던 스텐 304 냉장고물병 2P세트 외 주방용품 BEST', '[너트리]볶음땅콩 3.75kg 알큰사이즈', '[락토핏]종근당건강 유산균 락토핏 골드 50포 3통(150일분) +골드 30포 증정', '[뮬라웨어]역대급 혜택이 가득한 뮬라웨어 베스트 아이템 최대 89% 만나보세요', '[게스]누구나 20%+5%쿠폰 게스본사 S/S 신상이월 인기상품 할인전', '[헤네스]((1+1)) 물놀이 야외활동 자외선차단 성인 플랩캡', '[AHC]AHC 마스터즈 에어리치 선스틱 22g+14g /박세리선스틱 +증정', '[Gfresh]산과들에 간식 견과류 달고나아몬드18g x50봉', '[구글플레이]기프트코드 5만원 / 구글 기프트카드', '개념원리 에이급 블랙라벨 초 중등 참고서 선택구매', '시매쓰 영재사고력수학 1031(2023개정판) / 과학 1031 단계별 선택구매', '농협 세종대왕쌀 20kg 상등급 / 22년산 / 박스포장 / 밥소믈리에 전문관리쌀', '[어나더디](15%쿠폰가 11820원)(1+1) 더 아이 주니어 하이틴 심리스 브라탑 일체형 노와이어', '[바이오가이아](아이허브) 2개X 프로텍티스 베이비드롭 아기유산균 비타민D 10ml 빠른직구', '메이스 스노쿨링마스크/아동/어린이/스노클링/장비', '1+1+1+1 개당3217원 가볍고 편한 반바지/목욕후 시원한 홈팬츠/동네/캠핑/산책/바닷가등', '무중력 펀칭 슈즈 발편한 운동화 런닝 워킹 스니커즈 키높이 신발', '이맛쌀 20kg', '집콕 메밀 경추베개 일자목 목디스크 거북목베개', '[시에나(쥬얼리)] 시에나 리얼 담수진주 목걸이 2종 + 펜던트 2종 세트 + 두줄 테니스', '[시에나(쥬얼리)] 시에나 리얼 담수진주 팔찌 2종 + 펜던트 2종 세트 + 두줄 테니스팔', '[CGV](CGV) 미션임파서블7 전용 예매권-07월 17일부터 구매/사용가능', '[JHP](4+1+증정) 모공잡티 EGF 10ppm 앰플 가로세로 모공케어 시리즈', '10%쿠폰((오늘만 이가격))여름잠옷1+1', '파머스픽 유명산지 수박 9~10kg미만', '[아이리스코리아]1+1 아이리스 옷장수납 대형 투명 플라스틱 서랍장 리빙박스', '당일생산 100% 국내산콩 진한 콩물 백태콩물 1L+1L', '[햇반]햇반 210g x24입', '[어스본코리아]어스본 태엽북 7종 골라담기', '[한복선](현대Hmall)대복 포기김치 10kg (꽃게육수로 시원하고 아삭한 맛)', '청도 달콤한 털복숭아 아삭아삭 대월 경봉 딱딱이(14-15과 내외) 4kg 아웃박스 안전배송', '[뱅뱅]15%쿠폰 뱅뱅 본사입점 기념 여름 남여캐주얼 핫템', '[구글플레이]기프트코드 20만원 / 구글 기프트카드', '[네파 키즈](신세계강남점)네파키즈23SS듀얼 슈프림 트레이닝세트KJC5905', '[인블룸]색배임 없는 스텐 위생 양면 도마_중형', '[노브랜드]노브랜드 도톰한 물티슈 100매 X 20개입', '[베베앙(물티슈)]베베앙 아기물티슈 시그니처플러스 캡형 100매 10팩', '[TS티마]여름마스크 100매 TS 레모나 위가드 스카이슘 새부리형 중형 대형 KF94 쿨마스크 모음전', '[아이더](신세계강남점)[23s/s]아이더 POP ON 2 PACK-S 남성 반팔 티셔츠 / DMM23294', '[G클럽]니트릴장갑 화이트 베이직 블랙 200매 요리용 실험용 생활용 다목적 기획 알뜰구성', '[제스프리]제스프리 슈퍼점보 썬 골드키위 2kg(개당 180g내외) 공식인증 맛젤', '[오뚜기]오뚜기 맛있는 밥 210g 12입 X2박스 / 총24개 / 오뚜기 흰밥', '스위트 아이스망고스틱 50g x 40봉', '[케피]케피 버블 슬라임 4종 택2 유아 촉감놀이 액체괴물 외', '파머스픽 씨가 적어 먹기 편한 수박 9~10kg미만', '오븐에 구운 플랫 파운드 4종 혼합 30개 / 빵 디저트 간식 케이크 (아몬드8개+카카오8개+코코넛7개+레몬7개)', '[필립스]PHILIPS 필립스 코털제거기 NT1620/15 콧털 정리 트리머', '[매일유업]매일 소화가 잘되는 멸균우유 190ml 48팩', 'S129 이브닝잠옷ops 5종', '[사보텐]씽씽배송사보텐 등심 돈카츠 130g 10팩', '[리엔]리엔 흑모비책 골드 자연갈색 90g 4개', '[아르페지오](5%+5%더블쿠폰) 여름 차렵이불 냉감/모기기피/풍기인견/시어서커/순면/패드', '[코카콜라]캐나다 진저에일 250ml x 30입', '[스파클]스파클생수 500ml 100병 (도착보장/무라벨생수)', '[매머드커피](선물하기 특가) 매머드커피 디지털상품권 1만원권', '제주농협 귤로장생 하우스감귤 4.5kg 로얄과(2S-M)', '[아침농산]2022년 햅쌀 농부의아침 쌀10kg 백미 상등급', '[테리파머](쿠폰가24900원) 호텔수건 무형광 180g /200g 보더 헤밍 수건 10장 수건세트 타올 타월 호텔타올 호텔타월', '샤오미 FIVE HOME 써큘레이터 선풍기/ 리모컨선풍기/탁상용선풍기 2023년 새로운/ 한국형 어댑터/무료배송', '덴마크유산균이야기 프로바이오틱스60캡슐(2개월분) dm', '[잘풀리는집]잘풀리는집 미용티슈 280매 3개 4팩 총12개', '[이룸E&B]숨마 중 고등 수학 시리즈', '[CGV](첫구매/웰컴백 쿠폰최종가 5 000원) CGV 미션임파서블7 전용예매권', '[3SKBOX]깔끔한 톰슨가공 최다보유/포장이 빨라지는 택배박스 3sk 창립 기념 감사 이벤트 1000원 즉시 할인', '씨가 적어 먹기 편한 수박 6kg미만', '[퍼스트스타](10%쿠폰) 가성비 포켓 7부 스판 반바지 R508 1+1', '[예스플러스](쿠폰가10710원) 2+2+1 5매/국산 고품질 면3부 여성 속바지 특대사이즈추가/예스플러스', '[헤라]헤라 선메이트 레포츠 SPF50+ 70ml +증정', '(사회평론) 용선생 15분 한국사/세계사 독해 시리즈 선택구매', '[한예지](10%+클럽12% 쿠폰적용가 21750) 한예지 볼륨앤소프트 천연펄프 화장지 30롤 3팩 (가성비갑)', '우리아이 반찬 짜지않은 메추리알 장조림 1kg x 2팩', '[메가박스](메가박스) 일반예매권2D-주중/주말', '10%쿠폰 (1+1) 남녀공용 스티치 5부 트레이닝 팬츠', '[피죤]피죤 섬유유연제 3100ml 4개 핑크로즈', '[아토세이프]최종혜택가 14520원 아토세이프 귀찮아 습기제거제 520ml 24개입/제습제/장마철필수품', '[오뚜기]오뚜기 맛있는 밥 30입(210gx10)x 3개 / 오뚜기 흰밥', '[맥심]맥심 모카골드 커피믹스 400T', '[대상 웰라이프]뉴케어 구수한맛 200ml x 30팩 /균형영양식 가장 친숙한 맛 누룽지맛 식사대용식 환자영양식', '(깨비농원)고당도 하우스귤 대용량 4.5kg 소과(2S)', '[실크테라피]실크테라피 오리지널라이트 헤어에센스130ml+60ml 2개+트리트먼트100ml', '[아디다스]아디다스 퍼포먼스 스포티 드로즈 9종 패키지 남성 최신상', '[밀레](신세계하남점)[여성] 역시즌 특가 (가을/겨울) 간절기 경량 구스 다운 자켓(2종 모음) MXRWD522/MXRWD5...', '청도 달콤한 털복숭아 아삭아삭 대월 경봉 딱딱이(12-13과 내외) 4kg 아웃박스 안전배송', '[지오지아]22%쿠폰 지오지아 여름 필수템 남자의 여름코디추천', '2023년 2학기 학년별 국어교과서 수록도서 세트', '씨투엠에듀 예비초등수학 구구단/시계와달력/길이와화폐 선택구매 (전2권)', '[프로월드컵]PWX 남/여 쿨티셔츠 라운드 반팔 아이스티셔츠 메쉬기능성', '[웅진]하늘보리 500ml x 20개입', '[매일유업]피크닉 사과 200ML 48팩', '창의력 키우는 우주큐브 만들기 4개세트', '[신세계푸드]올바르고 반듯한 버터깨찰빵 생지 967g (30개입 내외)(신세계푸드 중복쿠폰 할인)', '[스파클][스파클 무라벨] 스파클 생수 2리터 42병', '우삼겹 미국산 고급육 250gx4팩 샤브/구이용/소포장', '[휠라]휠라 워니프렌즈 구명조끼 넥베스트 넥자켓 넥튜브 부력복 유아 어린이 25/35/50KG', '[농심]한정수량특가 올리브 짜파게티 5입X8개(40개)', '[동원에프앤비]동원 라이트 스탠다드 참치 150g 원터치 10개', '[페이퍼플레인]10%쿠폰 페이퍼플레인 바캉스 아쿠아슈즈 남성 여성 신발 워터슈즈 물놀이신발 네오프렌 경량화 PP1551', '[10%쿠폰] 모스트맘 데일리 도형스트링티', '[홍천철원물류센터]홍천철원 22년산 참드림 특등급 10kg', '[세포랩]세포랩 바이오제닉 에센스 클렙스 오리지널 90% 155ml', '[온더바디]벨먼 아유르벨 허브 바디워시 400ml 2개', '[듀오락]듀오락 생유산균 초코볼 레드에디션 2통(120알)', '제주농협 귤로장생 하우스감귤 2.5kg 로얄과(2S-M)', '[맥심](행사상품)N 동서식품맥심모카골드믹스230T 2760G', '엄마랑 낱말카드 210장 세이펜 호환버전/세이펜 선택구매', '[카이아크만]20% 카이아크만 - 여름 최종가 세일 반팔/데님/반바지/셔츠/팬츠 ~85%', '[스파클]스파클생수 2L 30병 (도착보장/무라벨생수)', '새콤달콤 경북 아오리 사과 2kg 9-11과 (중과)', '쿨모던심플 반바지세트 / 미미나나', '[리코셀](최종가 9810원)저자극 알로에 수딩젤 1000ml 1+1 98% 알로에베라 대용량 진정 수분 보습 얼굴 바디 케어', '[랩]10%쿠폰 LAP ACC 여름 시즌오프 특가 크로스백/지갑/모자', '[온더바디]온더바디 리얼모이스처 바디워시 900g 3개(웜코튼/피오니/아몬드)', '[인블룸]데일리 3단 완자동 우산 1+1 (2개 색상 선택) 자외선차단 양우산', '[겔업]겔업 고농축 액체세제 2.5L x 4개 세탁세제 총10000ml', '[인블룸]색배임 없는 스텐 위생 양면 도마_대형', '[미스터카피]복사용지 A4 80g 미스터카피 프리미엄 5000매', '[제주삼다수][무료배송] 제주 삼다수 그린(무라벨) 2L 24병 (유라벨/무라벨 랜덤발송)', '[아이러브베베]아이러브베베아기물티슈 핑크100매캡형X20팩', '[커피빈](커피빈) 모바일교환권 3만원권', '[동아시아 사이언스]공구/ 동아시아-초등과학백과/메이커스주니어 골라담기', '[포스트]포스트 그래놀라 카카오호두 510g X3 +키친락 밀폐용기 1개', '명품 대패삼겹살 250gx6팩 1인용 소포장 구이 볶음OK~', '(10%) 쉬블림로브 ~오후1시까지 선착순100장 노마진특가 (쿠폰가 : 6930원) 시원한 린넨블라우스/GW2049', '[네파](대구신세계)남녀공용 초경량 가볍고 쿠셔닝 좋은 데일리 워킹화 알토스 알리페 7I17664 7GC7642', '[천재교육]돌잡이 수학(전 18종+디지털앱) - 펜 미포함', '[써브웨이](써브웨이) 1만원권', '무료배송 페이퍼맥스 고양이 종이컵 2000개/1박스', '파머스픽 씨가 적어 먹기 편한 수박 8~9kg미만', '[댄트롤]댄트롤 딥 클린 박하 솔트 샴푸 820ml 3개', '굽네 오븐구이 통삼겹 슬라이스 150g 2종 4팩 (임박특가 48%할인_팩당 3900원꼴) 총 600g', '[맥심]맥심 티오피 심플리스무스 페트240ml 20개입/커피', '[풀무원건강생활]풀무원 혈당케어 1+1/최대60%OFF/바나바잎/하루 1알로 식후혈당케어/소비자가5만원', '[세균아꼼짝마]세꼼마 핸드워시 3.5L 레몬향', '[아디다스]나이키外 인기 신상 반팔티/반바지/쇼트/운동복 모음', '[이너리즘](쿠폰가13180원)(2장세트)쿨모달 끈브라나시 1+1 브라캡 캐미솔 요가복 필라테스', '[헬로]헬로 순수 3겹 30m 30롤 3팩 천연펄프 화장지 초특가행사', '[쿠잉]쿠잉 윙윙/에어드라이/베러 프리미엄 유아기저귀 4팩', '[비룡소]비룡소 떡집 시리즈 낱권 선택구매', '[피코크]조선호텔 포기김치 8kg(신세계푸드 중복쿠폰 할인)', '[구글플레이]기프트코드 3만원 / 구글 기프트카드', '[에그머니](에그머니) 온라인게임상품권 5만원', '[오뚜기]진라면 매운맛 40봉', '[일동후디스]하이뮨 프로틴 밸런스 음료 (190mlx32입)', '[팸퍼스]팸퍼스 2023에어차차 팬티형 5단계 156매 (52X3)', '[맥심]맥심 모카골드 400T', '[요기요](요기요) 5만원권', '[맥심]맥심 모카골드 커피믹스 400T', '[헬로]헬로 프라임코튼 키친타올 200매 12롤 2팩 행사 특가', '[폴레드][폴레드] 허그베어 VER2 입식 아기비데 욕조 샤워 목욕 핸들 기저귀갈이대', '제로픽 브로멜라인 비아벨로 제로픽 600mg x 45정 in', '(쿠폰가 : 11970원) (~오후1시까지 선착순100장) 노마진 쿨링린넨 원피스/시원한 COOL 원피스/GW2000', '[레노마](롯데백화점)레노마 2023 여름 스판 반팔셔츠 특집전 24가지중 택1 (사은품증정)', '[맥심]맥심 모카골드 커피믹스 180T+180T ~쿠폰가 45900원+오롤리데이 머그 2P 증정', '[TS]올뉴 TS 티에스 샴푸 500g 2개 무료배송', '[엄마옷데드라](10%쿠폰가7970원)엄마옷 TBB3121 콘디심플인견블라우스 50대 여성의류', '[마담4060](10%쿠폰: 8.910원)엄마옷 마담4060 풍기인견 플리츠팬츠 빅사이즈 -YMPN204001-', '[라페어]라페어비밀의 숲 인견팬티 15종+전고객 사은품', '[레드페이스]여름 ICE 냉감 기능성 남성 칼라 티셔츠 M22215']\n"
     ]
    }
   ],
   "source": [
    "print(title_list)"
   ]
  },
  {
   "cell_type": "markdown",
   "id": "4a3d6591",
   "metadata": {},
   "source": [
    "# selenium 실행하고 상품명, 가격, 별점 정보 저장"
   ]
  },
  {
   "cell_type": "code",
   "execution_count": 11,
   "id": "0212841f",
   "metadata": {},
   "outputs": [],
   "source": [
    "from selenium import webdriver\n",
    "from selenium.webdriver.common.by import By\n",
    "from selenium.webdriver.common.keys import Keys\n",
    "from selenium.webdriver.chrome.service import Service\n",
    "\n",
    "title_list = list()\n",
    "price_list = list()\n",
    "star_list = list()\n",
    "\n",
    "# ChromeDriver의 경로를 지정하고, WebDriver 인스턴스를 생성합니다.\n",
    "driver = webdriver.Chrome()\n",
    "\n",
    "# 지마켓의 메인 페이지를 엽니다.\n",
    "driver.get('https://www.gmarket.co.kr')\n",
    "\n",
    "# 검색어를 입력할 수 있는 input 요소를 찾습니다.\n",
    "search_box = driver.find_element(By.NAME, 'keyword')\n",
    "\n",
    "# 검색어를 입력하고, Enter 키를 눌러 검색을 실행합니다.\n",
    "search_box.send_keys('손풍기')\n",
    "search_box.send_keys(Keys.RETURN)\n",
    "\n",
    "# 결과 페이지가 로드될 때까지 잠시 기다립니다.\n",
    "driver.implicitly_wait(3)\n",
    "\n",
    "# 정보를 담은 박스를 선택합니다.\n",
    "search_results = driver.find_elements(By.CSS_SELECTOR, 'div.box__information')\n",
    "\n",
    "for result in search_results:\n",
    "    #만족도가 없을 수도 있기에 try except문을 활용\n",
    "    try:\n",
    "        title_element = result.find_element(By.CSS_SELECTOR, 'span.text__item')\n",
    "        price_element = result.find_element(By.CSS_SELECTOR, 'div.box__price-seller > strong')\n",
    "        star_element = result.find_element(By.CSS_SELECTOR, 'span.image__awards-points > span')\n",
    "        title_list.append(title_element.text)\n",
    "        price_list.append(price_element.text)\n",
    "        star_list.append(star_element.text)\n",
    "    except:\n",
    "        pass\n",
    "    \n",
    "# 작업이 끝나면 WebDriver를 종료하여 브라우저 창을 닫습니다.\n",
    "driver.quit()"
   ]
  },
  {
   "cell_type": "markdown",
   "id": "d5562181",
   "metadata": {},
   "source": [
    "# 데이터 프레임으로 저장하고 Excel 파일로 저장하기"
   ]
  },
  {
   "cell_type": "code",
   "execution_count": 17,
   "id": "6a7f288f",
   "metadata": {},
   "outputs": [],
   "source": [
    "import pandas as pd\n",
    "\n",
    "gmarket_selenium_df = pd.DataFrame([title_list, price_list, star_list]).T"
   ]
  },
  {
   "cell_type": "code",
   "execution_count": 18,
   "id": "7a392265",
   "metadata": {},
   "outputs": [],
   "source": [
    "gmarket_selenium_df.columns = ['상품명', '판매가', '만족도']"
   ]
  },
  {
   "cell_type": "code",
   "execution_count": 19,
   "id": "176e224f",
   "metadata": {},
   "outputs": [
    {
     "data": {
      "text/html": [
       "<div>\n",
       "<style scoped>\n",
       "    .dataframe tbody tr th:only-of-type {\n",
       "        vertical-align: middle;\n",
       "    }\n",
       "\n",
       "    .dataframe tbody tr th {\n",
       "        vertical-align: top;\n",
       "    }\n",
       "\n",
       "    .dataframe thead th {\n",
       "        text-align: right;\n",
       "    }\n",
       "</style>\n",
       "<table border=\"1\" class=\"dataframe\">\n",
       "  <thead>\n",
       "    <tr style=\"text-align: right;\">\n",
       "      <th></th>\n",
       "      <th>상품명</th>\n",
       "      <th>판매가</th>\n",
       "      <th>만족도</th>\n",
       "    </tr>\n",
       "  </thead>\n",
       "  <tbody>\n",
       "    <tr>\n",
       "      <th>0</th>\n",
       "      <td>초경량 1+1 미소양품 프리미엄 소형 미니 휴대용 핸디 손 선풍기</td>\n",
       "      <td>29,900</td>\n",
       "      <td></td>\n",
       "    </tr>\n",
       "    <tr>\n",
       "      <th>1</th>\n",
       "      <td>오아 반디팬 미니 무선 휴대용 초경량 저소음 핸디 손 선풍기</td>\n",
       "      <td>14,900</td>\n",
       "      <td></td>\n",
       "    </tr>\n",
       "    <tr>\n",
       "      <th>2</th>\n",
       "      <td>쁘띠팬 미니 무선 휴대용 저소음 핸디 손 선풍기</td>\n",
       "      <td>14,900</td>\n",
       "      <td></td>\n",
       "    </tr>\n",
       "    <tr>\n",
       "      <th>3</th>\n",
       "      <td>1+1 초특가 무선 선풍기 휴대용 손 선풍기 미니 손풍기 힐템</td>\n",
       "      <td>34,900</td>\n",
       "      <td></td>\n",
       "    </tr>\n",
       "    <tr>\n",
       "      <th>4</th>\n",
       "      <td>코어제트 휴대용접이식선풍기 무소음 목걸이형 화이트</td>\n",
       "      <td>13,900</td>\n",
       "      <td></td>\n",
       "    </tr>\n",
       "    <tr>\n",
       "      <th>...</th>\n",
       "      <td>...</td>\n",
       "      <td>...</td>\n",
       "      <td>...</td>\n",
       "    </tr>\n",
       "    <tr>\n",
       "      <th>94</th>\n",
       "      <td>BLDC 무선 소형 캠핑 탁상 책상 휴대용 충전식 키높이 미니 선풍기 캠핑용선풍기 ...</td>\n",
       "      <td>19,900</td>\n",
       "      <td>만족도 86% 입니다.</td>\n",
       "    </tr>\n",
       "    <tr>\n",
       "      <th>95</th>\n",
       "      <td>무선 휴대용 선풍기 MONO-4TFLED 미니 탁상용 (화이트)</td>\n",
       "      <td>16,800</td>\n",
       "      <td>만족도 88% 입니다.</td>\n",
       "    </tr>\n",
       "    <tr>\n",
       "      <th>96</th>\n",
       "      <td>KICA 제트팬 초경량 휴대용 미니 선풍기 2세대 에어건 캠핑용 에어펌프</td>\n",
       "      <td>66,500</td>\n",
       "      <td>만족도 70% 입니다.</td>\n",
       "    </tr>\n",
       "    <tr>\n",
       "      <th>97</th>\n",
       "      <td>휴대용 선풍기 집게형 스탠드 무선 써큘레이터형 LED</td>\n",
       "      <td>21,900</td>\n",
       "      <td>만족도 92% 입니다.</td>\n",
       "    </tr>\n",
       "    <tr>\n",
       "      <th>98</th>\n",
       "      <td>대용량 넥밴드 목걸이 선풍기 휴대용 소형 미니 화이트 / 시즌오프 특가</td>\n",
       "      <td>15,900</td>\n",
       "      <td>만족도 88% 입니다.</td>\n",
       "    </tr>\n",
       "  </tbody>\n",
       "</table>\n",
       "<p>99 rows × 3 columns</p>\n",
       "</div>"
      ],
      "text/plain": [
       "                                                  상품명     판매가           만족도\n",
       "0                초경량 1+1 미소양품 프리미엄 소형 미니 휴대용 핸디 손 선풍기  29,900              \n",
       "1                   오아 반디팬 미니 무선 휴대용 초경량 저소음 핸디 손 선풍기  14,900              \n",
       "2                          쁘띠팬 미니 무선 휴대용 저소음 핸디 손 선풍기  14,900              \n",
       "3                  1+1 초특가 무선 선풍기 휴대용 손 선풍기 미니 손풍기 힐템  34,900              \n",
       "4                         코어제트 휴대용접이식선풍기 무소음 목걸이형 화이트  13,900              \n",
       "..                                                ...     ...           ...\n",
       "94  BLDC 무선 소형 캠핑 탁상 책상 휴대용 충전식 키높이 미니 선풍기 캠핑용선풍기 ...  19,900  만족도 86% 입니다.\n",
       "95                무선 휴대용 선풍기 MONO-4TFLED 미니 탁상용 (화이트)  16,800  만족도 88% 입니다.\n",
       "96           KICA 제트팬 초경량 휴대용 미니 선풍기 2세대 에어건 캠핑용 에어펌프  66,500  만족도 70% 입니다.\n",
       "97                      휴대용 선풍기 집게형 스탠드 무선 써큘레이터형 LED  21,900  만족도 92% 입니다.\n",
       "98            대용량 넥밴드 목걸이 선풍기 휴대용 소형 미니 화이트 / 시즌오프 특가  15,900  만족도 88% 입니다.\n",
       "\n",
       "[99 rows x 3 columns]"
      ]
     },
     "execution_count": 19,
     "metadata": {},
     "output_type": "execute_result"
    }
   ],
   "source": [
    "gmarket_selenium_df"
   ]
  },
  {
   "cell_type": "code",
   "execution_count": 20,
   "id": "ec181364",
   "metadata": {},
   "outputs": [],
   "source": [
    "def extract_comma(x):\n",
    "    price = int(x.replace(\",\", \"\")) #replace로 쉼표까지 제거하고 int로 변환\n",
    "    return price"
   ]
  },
  {
   "cell_type": "code",
   "execution_count": 21,
   "id": "9b7d9fb6",
   "metadata": {},
   "outputs": [],
   "source": [
    "gmarket_selenium_df['판매가'] = gmarket_selenium_df['판매가'].apply(extract_comma)"
   ]
  },
  {
   "cell_type": "code",
   "execution_count": 23,
   "id": "9164b40b",
   "metadata": {},
   "outputs": [],
   "source": [
    "import re\n",
    "\n",
    "def extract_stars(x):\n",
    "    ext = re.findall(\"\\d+%\", x)\n",
    "    #데이터가 빈 경우가 있으므로 try, except문 사용\n",
    "    try:\n",
    "        stars = int(ext[0].replace('%', \"\")) #%를 제거한 뒤 int로 변환\n",
    "    except:\n",
    "        pass\n",
    "    return stars if ext else None #데이터가 있을 경우 stars를 반환, 아닐 경우 None을 반환"
   ]
  },
  {
   "cell_type": "code",
   "execution_count": 24,
   "id": "230d91f7",
   "metadata": {},
   "outputs": [],
   "source": [
    "gmarket_selenium_df['만족도'] = gmarket_selenium_df['만족도'].apply(extract_stars)"
   ]
  },
  {
   "cell_type": "code",
   "execution_count": 29,
   "id": "a25fd9f2",
   "metadata": {},
   "outputs": [],
   "source": [
    "gmarket_selenium_df = gmarket_selenium_df.dropna().reset_index().iloc[:, 1:]"
   ]
  },
  {
   "cell_type": "code",
   "execution_count": 30,
   "id": "7c58aa80",
   "metadata": {},
   "outputs": [],
   "source": [
    "gmarket_selenium_df.to_excel('gmarket_handfan_stars.xlsx')"
   ]
  },
  {
   "cell_type": "markdown",
   "id": "991f806a",
   "metadata": {},
   "source": [
    "# 과제 (100점)"
   ]
  },
  {
   "cell_type": "markdown",
   "id": "f2f4a5c1",
   "metadata": {},
   "source": [
    "#### 본인이 관심 있는 키워드에 대해서 해당 크롤링을 반복해서 수행하시오. 데이터를 수집하여 excel 파일로 저장하시오."
   ]
  },
  {
   "cell_type": "code",
   "execution_count": 64,
   "id": "33c4a281",
   "metadata": {},
   "outputs": [],
   "source": [
    "#1. 필요한 라이브러리 import 하기 (10점)\n"
   ]
  },
  {
   "cell_type": "code",
   "execution_count": 65,
   "id": "895a50b8",
   "metadata": {},
   "outputs": [],
   "source": [
    "#2. 본인이 관심 있는 키워드에 대해서 크롤링을 수행하고 상품명, 가격, 별점 정보 저장하기 (40점)\n"
   ]
  },
  {
   "cell_type": "code",
   "execution_count": null,
   "id": "99c586a5",
   "metadata": {},
   "outputs": [],
   "source": [
    "#3. 적절히 데이터 전처리를 하여 DataFrame 객체로 만들고 Excel 파일로 저장하기 (50점)\n",
    "#이때, DataFrame의 열은 \"상품명, 판매가, 만족도\"로 구성되어야 함.\n"
   ]
  }
 ],
 "metadata": {
  "kernelspec": {
   "display_name": "Python 3 (ipykernel)",
   "language": "python",
   "name": "python3"
  },
  "language_info": {
   "codemirror_mode": {
    "name": "ipython",
    "version": 3
   },
   "file_extension": ".py",
   "mimetype": "text/x-python",
   "name": "python",
   "nbconvert_exporter": "python",
   "pygments_lexer": "ipython3",
   "version": "3.9.12"
  }
 },
 "nbformat": 4,
 "nbformat_minor": 5
}
