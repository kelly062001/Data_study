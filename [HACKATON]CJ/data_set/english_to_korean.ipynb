{
 "cells": [
  {
   "cell_type": "code",
   "execution_count": null,
   "metadata": {},
   "outputs": [],
   "source": [
    "import pandas as pd"
   ]
  },
  {
   "cell_type": "code",
   "execution_count": null,
   "metadata": {},
   "outputs": [],
   "source": [
    "drama_list = pd.read_csv('./drama_info_ver1.csv')"
   ]
  },
  {
   "cell_type": "code",
   "execution_count": null,
   "metadata": {},
   "outputs": [],
   "source": [
    "drama_list.loc[1115]"
   ]
  },
  {
   "cell_type": "code",
   "execution_count": null,
   "metadata": {},
   "outputs": [],
   "source": [
    "drama_list"
   ]
  },
  {
   "cell_type": "code",
   "execution_count": null,
   "metadata": {},
   "outputs": [],
   "source": [
    "drama_list_2017=drama_list[drama_list['year']==2017]"
   ]
  },
  {
   "cell_type": "code",
   "execution_count": null,
   "metadata": {},
   "outputs": [],
   "source": [
    "drama_list_2017"
   ]
  },
  {
   "cell_type": "code",
   "execution_count": null,
   "metadata": {},
   "outputs": [],
   "source": [
    "from selenium import webdriver\n",
    "from selenium.webdriver.common.by import By\n",
    "from selenium.webdriver.common.keys import Keys\n",
    "import pandas as pd\n",
    "import time\n",
    "from selenium.webdriver.support.ui import WebDriverWait\n",
    "from selenium.webdriver.support import expected_conditions as EC\n",
    "from selenium.common.exceptions import TimeoutException"
   ]
  },
  {
   "cell_type": "code",
   "execution_count": null,
   "metadata": {},
   "outputs": [],
   "source": [
    "driver = webdriver.Chrome()\n",
    "\n",
    "drama_eng_title = drama_list_2017['drama_name']\n",
    "\n",
    "def english_to_korean(x):\n",
    "    global drama_eng_title\n",
    "    name = x\n",
    "    url = f\"https://mydramalist.com/search?q={name.replace(' ', '+')}&adv=titles&ty=68,83&so=relevance\"\n",
    "    driver.get(url)\n",
    "\n",
    "    try: \n",
    "        dramas = driver.find_element(By.XPATH, \"//*[@id]/div/div/div[2]/h6/a[1]\").send_keys(Keys.ENTER)\n",
    "        title = WebDriverWait(driver,10).until(EC.element_to_be_clickable((By.XPATH, \"//*[@id='show-detailsxx']/div[4]/ul[1]/li[1]/a\")))\n",
    "        title_text = title.text\n",
    "    except TimeoutException as ex:\n",
    "        title = WebDriverWait(driver,10).until(EC.element_to_be_clickable((By.XPATH, \"//*[@id='show-detailsxx']/div[4]/ul[1]/li[2]/a\")))\n",
    "        title_text = title.text\n",
    "        \n",
    "    except Exception as e:\n",
    "        title_text = \"Notfound\"\n",
    "        \n",
    "    return title_text\n",
    "# 결과를 저장할 빈 리스트 생성\n",
    "drama_title_2017 = []\n",
    "\n",
    "i=0\n",
    "# 영문 제목 번역 \n",
    "for title in drama_eng_title:\n",
    "    time.sleep(3)\n",
    "    korean_title = english_to_korean(title)\n",
    "    drama_title_2017.append(korean_title)\n",
    "    print(i, title, korean_title)\n",
    "    i+=1\n",
    "\n",
    "# 번역 결과\n",
    "drama_list_2017['kor_title'] = drama_title_2017\n",
    "\n",
    "driver.quit()"
   ]
  },
  {
   "cell_type": "code",
   "execution_count": null,
   "metadata": {},
   "outputs": [],
   "source": [
    "drama_list_2018_new.to_csv('./korean_title_2018.csv', index=False, encoding=\"utf-8-sig\")"
   ]
  },
  {
   "cell_type": "code",
   "execution_count": null,
   "metadata": {},
   "outputs": [
    {
     "ename": "",
     "evalue": "",
     "output_type": "error",
     "traceback": [
      "\u001b[1;31mThe Kernel crashed while executing code in the the current cell or a previous cell. Please review the code in the cell(s) to identify a possible cause of the failure. Click <a href='https://aka.ms/vscodeJupyterKernelCrash'>here</a> for more info. View Jupyter <a href='command:jupyter.viewOutput'>log</a> for further details."
     ]
    }
   ],
   "source": [
    "drama_title_2017"
   ]
  },
  {
   "cell_type": "code",
   "execution_count": null,
   "metadata": {},
   "outputs": [],
   "source": []
  }
 ],
 "metadata": {
  "kernelspec": {
   "display_name": "base",
   "language": "python",
   "name": "python3"
  },
  "language_info": {
   "codemirror_mode": {
    "name": "ipython",
    "version": 3
   },
   "file_extension": ".py",
   "mimetype": "text/x-python",
   "name": "python",
   "nbconvert_exporter": "python",
   "pygments_lexer": "ipython3",
   "version": "3.9.7"
  },
  "orig_nbformat": 4
 },
 "nbformat": 4,
 "nbformat_minor": 2
}
