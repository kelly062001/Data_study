{
 "cells": [
  {
   "cell_type": "code",
   "execution_count": 1,
   "metadata": {},
   "outputs": [
    {
     "name": "stdout",
     "output_type": "stream",
     "text": [
      "6\n"
     ]
    }
   ],
   "source": [
    "a=int(input())\n",
    "b=int(input())\n",
    "print(a*b)"
   ]
  },
  {
   "cell_type": "code",
   "execution_count": 4,
   "metadata": {},
   "outputs": [
    {
     "name": "stdout",
     "output_type": "stream",
     "text": [
      "347\n"
     ]
    }
   ],
   "source": [
    "x,y,w,h = map(int,input().split())\n",
    "width1=y\n",
    "height1=x\n",
    "width2 = h-y\n",
    "height2 = w-x\n",
    "\n",
    "print(min(width1,width2, height1,height2))"
   ]
  },
  {
   "cell_type": "code",
   "execution_count": 34,
   "metadata": {},
   "outputs": [
    {
     "name": "stdout",
     "output_type": "stream",
     "text": [
      "7\n",
      "7: x좌표 입니다"
     ]
    }
   ],
   "source": [
    "num_list_x=[]\n",
    "num_list_y=[]\n",
    "for i in range(3):\n",
    "    a,b= map(int,input().split())\n",
    "    num_list_x.append(a)\n",
    "    num_list_y.append(b)\n",
    "\n",
    "for i in range(3):\n",
    "    if num_list_x.count(num_list_x[i])==1:\n",
    "        print(num_list_x[i], end=\": x좌표 입니다\")\n",
    "    if num_list_y.count(num_list_y[i])==1:\n",
    "        print(num_list_y[i])"
   ]
  },
  {
   "cell_type": "code",
   "execution_count": 2,
   "metadata": {},
   "outputs": [
    {
     "name": "stdout",
     "output_type": "stream",
     "text": [
      "12\n"
     ]
    }
   ],
   "source": [
    "n=int(input())\n",
    "\n",
    "print(n*4)"
   ]
  },
  {
   "cell_type": "code",
   "execution_count": 6,
   "metadata": {},
   "outputs": [
    {
     "name": "stdout",
     "output_type": "stream",
     "text": [
      "9\n"
     ]
    }
   ],
   "source": [
    "x_list=[]\n",
    "y_list=[]\n",
    "n= int(input())\n",
    "\n",
    "for i in range(n):\n",
    "    a,b= map(int,input().split())\n",
    "    x_list.append(a)\n",
    "    y_list.append(b)\n",
    "\n",
    "x_length = max(x_list)-min(x_list)\n",
    "y_length = max(y_list)-min(y_list)\n",
    "\n",
    "print(x_length*y_length)"
   ]
  },
  {
   "cell_type": "code",
   "execution_count": 7,
   "metadata": {},
   "outputs": [
    {
     "name": "stdout",
     "output_type": "stream",
     "text": [
      "Scalene\n"
     ]
    }
   ],
   "source": [
    "a=int(input())\n",
    "b=int(input())\n",
    "c=int(input())\n",
    "\n",
    "if a==60 and b==60 and c==60:\n",
    "    print(\"Equilateral\")\n",
    "elif a+b+c == 180 and (a==b or b==c or c==a):\n",
    "    print(\"Isosceles\")\n",
    "elif a+b+c == 180:\n",
    "    print('Scalene')\n",
    "else:\n",
    "    print('Error')"
   ]
  },
  {
   "cell_type": "code",
   "execution_count": 13,
   "metadata": {},
   "outputs": [
    {
     "name": "stdout",
     "output_type": "stream",
     "text": [
      "Equilateral\n",
      "Scalene\n",
      "Invalid\n",
      "Isosceles\n"
     ]
    }
   ],
   "source": [
    "\n",
    "while (True):\n",
    "    length = []\n",
    "    a,b,c=map(int, input().split())\n",
    "    length.append(a)\n",
    "    length.append(b)\n",
    "    length.append(c)\n",
    "    length.sort()\n",
    "    if sum(length)==0:\n",
    "        break\n",
    "    else:\n",
    "        if length[2]>=length[0]+length[1] :\n",
    "            print('Invalid')\n",
    "        elif length[0]==length[1] and length[1]==length[2]:\n",
    "            print('Equilateral')\n",
    "        elif length[0]==length[1] or length[1]==length[2]:\n",
    "            print('Isosceles')\n",
    "        else:\n",
    "            print('Scalene')\n",
    "\n"
   ]
  },
  {
   "cell_type": "code",
   "execution_count": 8,
   "metadata": {},
   "outputs": [
    {
     "name": "stdout",
     "output_type": "stream",
     "text": [
      "[1, 2, 3]\n"
     ]
    }
   ],
   "source": [
    "list2=[3,2,1]\n",
    "list2.sort()\n",
    "print(list2)"
   ]
  },
  {
   "cell_type": "code",
   "execution_count": 15,
   "metadata": {},
   "outputs": [
    {
     "name": "stdout",
     "output_type": "stream",
     "text": [
      "113\n"
     ]
    }
   ],
   "source": [
    "length = []\n",
    "a,b,c=map(int, input().split())\n",
    "length.append(a)\n",
    "length.append(b)\n",
    "length.append(c)\n",
    "length.sort()\n",
    "\n",
    "if length[0]+length[1]>length[2]:\n",
    "    print(sum(length))\n",
    "else:\n",
    "    print((length[0]+length[1])*2-1)\n",
    "    "
   ]
  },
  {
   "cell_type": "code",
   "execution_count": null,
   "metadata": {},
   "outputs": [],
   "source": []
  }
 ],
 "metadata": {
  "kernelspec": {
   "display_name": "base",
   "language": "python",
   "name": "python3"
  },
  "language_info": {
   "codemirror_mode": {
    "name": "ipython",
    "version": 3
   },
   "file_extension": ".py",
   "mimetype": "text/x-python",
   "name": "python",
   "nbconvert_exporter": "python",
   "pygments_lexer": "ipython3",
   "version": "3.9.7"
  },
  "orig_nbformat": 4
 },
 "nbformat": 4,
 "nbformat_minor": 2
}
