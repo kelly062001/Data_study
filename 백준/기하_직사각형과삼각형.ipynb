{
 "cells": [
  {
   "cell_type": "code",
   "execution_count": 1,
   "metadata": {},
   "outputs": [
    {
     "name": "stdout",
     "output_type": "stream",
     "text": [
      "6\n"
     ]
    }
   ],
   "source": [
    "a=int(input())\n",
    "b=int(input())\n",
    "print(a*b)"
   ]
  },
  {
   "cell_type": "code",
   "execution_count": 4,
   "metadata": {},
   "outputs": [
    {
     "name": "stdout",
     "output_type": "stream",
     "text": [
      "347\n"
     ]
    }
   ],
   "source": [
    "x,y,w,h = map(int,input().split())\n",
    "width1=y\n",
    "height1=x\n",
    "width2 = h-y\n",
    "height2 = w-x\n",
    "\n",
    "print(min(width1,width2, height1,height2))"
   ]
  },
  {
   "cell_type": "code",
   "execution_count": 34,
   "metadata": {},
   "outputs": [
    {
     "name": "stdout",
     "output_type": "stream",
     "text": [
      "7\n",
      "7: x좌표 입니다"
     ]
    }
   ],
   "source": [
    "num_list_x=[]\n",
    "num_list_y=[]\n",
    "for i in range(3):\n",
    "    a,b= map(int,input().split())\n",
    "    num_list_x.append(a)\n",
    "    num_list_y.append(b)\n",
    "\n",
    "for i in range(3):\n",
    "    if num_list_x.count(num_list_x[i])==1:\n",
    "        print(num_list_x[i], end=\": x좌표 입니다\")\n",
    "    if num_list_y.count(num_list_y[i])==1:\n",
    "        print(num_list_y[i])"
   ]
  },
  {
   "cell_type": "code",
   "execution_count": null,
   "metadata": {},
   "outputs": [],
   "source": [
    "5"
   ]
  }
 ],
 "metadata": {
  "kernelspec": {
   "display_name": "base",
   "language": "python",
   "name": "python3"
  },
  "language_info": {
   "codemirror_mode": {
    "name": "ipython",
    "version": 3
   },
   "file_extension": ".py",
   "mimetype": "text/x-python",
   "name": "python",
   "nbconvert_exporter": "python",
   "pygments_lexer": "ipython3",
   "version": "3.9.7"
  },
  "orig_nbformat": 4
 },
 "nbformat": 4,
 "nbformat_minor": 2
}
