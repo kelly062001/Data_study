{
 "cells": [
  {
   "cell_type": "code",
   "execution_count": 3,
   "metadata": {},
   "outputs": [
    {
     "data": {
      "text/plain": [
       "60466175"
      ]
     },
     "execution_count": 3,
     "metadata": {},
     "output_type": "execute_result"
    }
   ],
   "source": [
    "\n",
    "35*36**0+35*36**1+35*36**2+35*36**3+35*36**4"
   ]
  },
  {
   "cell_type": "code",
   "execution_count": 29,
   "metadata": {},
   "outputs": [
    {
     "name": "stdout",
     "output_type": "stream",
     "text": [
      "84611\n"
     ]
    }
   ],
   "source": [
    "n,b=input().split()\n",
    "n = list(n)\n",
    "\n",
    "new_n = []\n",
    "for i in range(len(n)):\n",
    "    if n[i]>='A' and n[i]<='Z':\n",
    "        new_n.append(ord(n[i])-55)\n",
    "    else:\n",
    "        new_n.append(int(n[i]))\n",
    "    \n",
    "answer=0\n",
    "k=len(new_n)\n",
    "for i in range(k):\n",
    "    answer=answer+new_n[k-1-i]*int(b)**i\n",
    "print(answer)"
   ]
  },
  {
   "cell_type": "code",
   "execution_count": 46,
   "metadata": {},
   "outputs": [
    {
     "name": "stdout",
     "output_type": "stream",
     "text": [
      "ZZZZZ"
     ]
    }
   ],
   "source": [
    "n,b=map(int,input().split())\n",
    "new_list=[]\n",
    "while (n>0):\n",
    "    remainder = n%b\n",
    "    new_list.append(remainder)\n",
    "    n = int(n/b)\n",
    "\n",
    "for i in range(len(new_list)-1,-1,-1):\n",
    "    if new_list[i]>=10:\n",
    "        print(chr(new_list[i]+55),end=\"\")\n",
    "    else:\n",
    "        print(new_list[i],end=\"\")"
   ]
  },
  {
   "cell_type": "code",
   "execution_count": 52,
   "metadata": {},
   "outputs": [
    {
     "name": "stdout",
     "output_type": "stream",
     "text": [
      "4 2 0 4\n",
      "1 0 0 0\n",
      "7 1 1 4\n"
     ]
    }
   ],
   "source": [
    "coin_list=[]\n",
    "n=int(input())\n",
    "for i in range(n):\n",
    "    change = int(input())\n",
    "    quater = int(change/25)\n",
    "    change =change - 25 * quater\n",
    "    dime = int(change/10)\n",
    "    change =change - 10 * dime\n",
    "    nickel = int(change/5)\n",
    "    change =change - 5 * nickel\n",
    "    penny = int(change/1)\n",
    "    change =change - 1 * penny\n",
    "    print(quater, dime, nickel, penny)"
   ]
  },
  {
   "cell_type": "code",
   "execution_count": 51,
   "metadata": {},
   "outputs": [
    {
     "data": {
      "text/plain": [
       "0"
      ]
     },
     "execution_count": 51,
     "metadata": {},
     "output_type": "execute_result"
    }
   ],
   "source": [
    "int(4/5)"
   ]
  },
  {
   "cell_type": "code",
   "execution_count": null,
   "metadata": {},
   "outputs": [],
   "source": [
    "1 3\n",
    "2 5\n",
    "5 33\n",
    "\n",
    "16 \n",
    "\n"
   ]
  }
 ],
 "metadata": {
  "kernelspec": {
   "display_name": "base",
   "language": "python",
   "name": "python3"
  },
  "language_info": {
   "codemirror_mode": {
    "name": "ipython",
    "version": 3
   },
   "file_extension": ".py",
   "mimetype": "text/x-python",
   "name": "python",
   "nbconvert_exporter": "python",
   "pygments_lexer": "ipython3",
   "version": "3.9.7"
  },
  "orig_nbformat": 4
 },
 "nbformat": 4,
 "nbformat_minor": 2
}
