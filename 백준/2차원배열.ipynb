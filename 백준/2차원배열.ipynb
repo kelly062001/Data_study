{
 "cells": [
  {
   "cell_type": "code",
   "execution_count": 4,
   "metadata": {},
   "outputs": [
    {
     "name": "stdout",
     "output_type": "stream",
     "text": [
      "[['1', '1', '1'], ['2', '2', '2'], ['3', '3', '3']]\n",
      "[['4', '4', '4'], ['5', '5', '5'], ['6', '6', '6']]\n",
      "5 5 5 \n",
      "7 7 7 \n",
      "9 9 9 \n"
     ]
    }
   ],
   "source": [
    "a,b=map(int, input().split())\n",
    "list1=[]\n",
    "list2=[]\n",
    "\n",
    "\n",
    "for i in range(0,a):\n",
    "    input_list = input().split()\n",
    "    list1.append(input_list)\n",
    "for i in range(a):\n",
    "    input_list = input().split()\n",
    "    list2.append(input_list)\n",
    "\n",
    "\n",
    "for i in range(a):\n",
    "    for j in range(b):\n",
    "        print(int(list1[i][j])+int(list2[i][j]), end=\" \")\n",
    "    print()\n"
   ]
  },
  {
   "cell_type": "code",
   "execution_count": 19,
   "metadata": {},
   "outputs": [
    {
     "name": "stdout",
     "output_type": "stream",
     "text": [
      "90\n",
      "5 7\n"
     ]
    }
   ],
   "source": [
    "list1=[]\n",
    "key=0\n",
    "for i in range(9):\n",
    "    input_list = list(map(int,input().split()))\n",
    "    list1.append(input_list)\n",
    "for i in range(9):\n",
    "    for j in range(9):\n",
    "        if key<=list1[i][j]:\n",
    "            key=list1[i][j]\n",
    "            index_i = i+1 \n",
    "            index_j = j+1\n",
    "\n",
    "print(key)\n",
    "print(index_i, index_j)"
   ]
  },
  {
   "cell_type": "code",
   "execution_count": 36,
   "metadata": {},
   "outputs": [
    {
     "name": "stdout",
     "output_type": "stream",
     "text": [
      "P5h3kx#########\n",
      "['AABCDD#########', 'afzz###########', '09121##########', 'a8EWg6#########', 'P5h3kx#########']\n",
      "Aa0aPAf985Bz1EhCz2W3D1gkD6x"
     ]
    }
   ],
   "source": [
    "sero_list=[]\n",
    "for i in range(5):\n",
    "    input_list = input()\n",
    "    input_list=input_list.ljust(15,'#')\n",
    "    sero_list.append(input_list)\n",
    "\n",
    "for i in range(15):\n",
    "    for j in range(5):\n",
    "        if sero_list[j][i]=='#':\n",
    "            continue\n",
    "        else:\n",
    "            print(sero_list[j][i], end=\"\")"
   ]
  },
  {
   "cell_type": "code",
   "execution_count": null,
   "metadata": {},
   "outputs": [],
   "source": []
  },
  {
   "cell_type": "code",
   "execution_count": null,
   "metadata": {},
   "outputs": [],
   "source": []
  },
  {
   "cell_type": "code",
   "execution_count": null,
   "metadata": {},
   "outputs": [],
   "source": []
  },
  {
   "cell_type": "code",
   "execution_count": 27,
   "metadata": {},
   "outputs": [
    {
     "name": "stdout",
     "output_type": "stream",
     "text": [
      "4\n"
     ]
    }
   ],
   "source": [
    "s=['ABCD', 'abcde', '01234', 'FGHIJ', 'fghij']\n",
    "print(len(s[0]))"
   ]
  },
  {
   "cell_type": "code",
   "execution_count": null,
   "metadata": {},
   "outputs": [],
   "source": []
  }
 ],
 "metadata": {
  "kernelspec": {
   "display_name": "base",
   "language": "python",
   "name": "python3"
  },
  "language_info": {
   "codemirror_mode": {
    "name": "ipython",
    "version": 3
   },
   "file_extension": ".py",
   "mimetype": "text/x-python",
   "name": "python",
   "nbconvert_exporter": "python",
   "pygments_lexer": "ipython3",
   "version": "3.9.7"
  },
  "orig_nbformat": 4
 },
 "nbformat": 4,
 "nbformat_minor": 2
}
