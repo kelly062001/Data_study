{
 "cells": [
  {
   "cell_type": "code",
   "execution_count": 23,
   "metadata": {},
   "outputs": [
    {
     "name": "stdout",
     "output_type": "stream",
     "text": [
      "['0', '1']\n",
      "0 0 0\n",
      "0\n",
      "[[0, 0], [0, 0]]\n",
      "1 0 1\n",
      "1\n",
      "[[0, 1], [0, 1]]\n",
      "['2', '3']\n",
      "2 1 0\n",
      "2\n",
      "[[2, 1], [2, 1]]\n",
      "3 1 1\n",
      "3\n",
      "[[2, 3], [2, 3]]\n",
      "[[8, 10], [8, 10]]\n"
     ]
    }
   ],
   "source": [
    "a,b=map(int, input().split())\n",
    "list1=[[0]*b]*a\n",
    "list2=[[0]*b]*a\n",
    "answer_list=[[0]*b]*a\n",
    "\n",
    "for i in range(0,a):\n",
    "    input_list = input().split()\n",
    "    print(input_list)\n",
    "    for j in range(0,b):\n",
    "        list1[i][j]=int(input_list[j])\n",
    "        print(list1[i][j], i, j)\n",
    "        print(input_list[j])\n",
    "        print(list1)\n",
    "for i in range(a):\n",
    "    input_list = input().split()\n",
    "    for j in range(b):\n",
    "        list2[i][j]=input_list[j]\n",
    "\n",
    "for i in range(a):\n",
    "    for j in range(b):\n",
    "        answer_list[i][j]=int(list1[i][j])+int(list2[i][j])\n",
    "print(answer_list)"
   ]
  },
  {
   "cell_type": "code",
   "execution_count": 6,
   "metadata": {},
   "outputs": [
    {
     "name": "stdout",
     "output_type": "stream",
     "text": [
      "['1', '1', '1']\n"
     ]
    }
   ],
   "source": [
    "\n",
    "s=input().split()\n",
    "print(s)"
   ]
  },
  {
   "cell_type": "code",
   "execution_count": 27,
   "metadata": {},
   "outputs": [
    {
     "name": "stdout",
     "output_type": "stream",
     "text": [
      "0 0\n",
      "0 1\n",
      "0 2\n",
      "1 0\n",
      "1 1\n",
      "1 2\n",
      "2 0\n",
      "2 1\n",
      "2 2\n",
      "3 0\n",
      "3 1\n",
      "3 2\n"
     ]
    }
   ],
   "source": [
    "for i in range(0,4):\n",
    "    for j in range(0,3):\n",
    "        print(i,j)"
   ]
  },
  {
   "cell_type": "code",
   "execution_count": null,
   "metadata": {},
   "outputs": [],
   "source": []
  }
 ],
 "metadata": {
  "kernelspec": {
   "display_name": "base",
   "language": "python",
   "name": "python3"
  },
  "language_info": {
   "codemirror_mode": {
    "name": "ipython",
    "version": 3
   },
   "file_extension": ".py",
   "mimetype": "text/x-python",
   "name": "python",
   "nbconvert_exporter": "python",
   "pygments_lexer": "ipython3",
   "version": "3.9.7"
  },
  "orig_nbformat": 4
 },
 "nbformat": 4,
 "nbformat_minor": 2
}
